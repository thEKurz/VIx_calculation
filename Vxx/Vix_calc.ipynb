{
 "cells": [
  {
   "cell_type": "markdown",
   "source": [
    "Evan Kurzman\n",
    "EHK73\n",
    "VIX Calc on 10/6/2022 for Trading Volaility Smile Fall 2022 CFEM"
   ],
   "metadata": {
    "collapsed": false,
    "pycharm": {
     "name": "#%% md\n"
    }
   }
  },
  {
   "cell_type": "code",
   "execution_count": 2,
   "outputs": [],
   "source": [
    "import pandas as pd\n",
    "import datetime as dt\n",
    "import numpy as np"
   ],
   "metadata": {
    "collapsed": false,
    "pycharm": {
     "name": "#%%\n"
    }
   }
  },
  {
   "cell_type": "code",
   "execution_count": 3,
   "outputs": [],
   "source": [
    "spx_data = pd.read_excel('./VIX_data_2022_1006.xlsx')"
   ],
   "metadata": {
    "collapsed": false,
    "pycharm": {
     "name": "#%%\n"
    }
   }
  },
  {
   "cell_type": "code",
   "execution_count": 25,
   "outputs": [
    {
     "data": {
      "text/plain": "Empty DataFrame\nColumns: [px_bid().value, Put_Call, Strike, expirey]\nIndex: []",
      "text/html": "<div>\n<style scoped>\n    .dataframe tbody tr th:only-of-type {\n        vertical-align: middle;\n    }\n\n    .dataframe tbody tr th {\n        vertical-align: top;\n    }\n\n    .dataframe thead th {\n        text-align: right;\n    }\n</style>\n<table border=\"1\" class=\"dataframe\">\n  <thead>\n    <tr style=\"text-align: right;\">\n      <th></th>\n      <th>px_bid().value</th>\n      <th>Put_Call</th>\n      <th>Strike</th>\n      <th>expirey</th>\n    </tr>\n  </thead>\n  <tbody>\n  </tbody>\n</table>\n</div>"
     },
     "execution_count": 25,
     "metadata": {},
     "output_type": "execute_result"
    }
   ],
   "source": [
    "spx_data[spx_data['px_bid().value']==0]"
   ],
   "metadata": {
    "collapsed": false,
    "pycharm": {
     "name": "#%%\n"
    }
   }
  },
  {
   "cell_type": "code",
   "execution_count": 5,
   "outputs": [],
   "source": [
    "spx_data['expirey'] = spx_data['ID_SECURITY_DES'].astype(str).str.split().str[2]\n",
    "spx_data=spx_data.drop(columns='ID_SECURITY_DES')"
   ],
   "metadata": {
    "collapsed": false,
    "pycharm": {
     "name": "#%%\n"
    }
   }
  },
  {
   "cell_type": "code",
   "execution_count": 6,
   "outputs": [],
   "source": [
    "spx_spot = 3791.77\n",
    "spot_time = dt.datetime(2022,10,6,9,45,42)\n",
    "near_term = dt.datetime(2022,11,4,3)\n",
    "next_term = dt.datetime(2022,11,11,3)"
   ],
   "metadata": {
    "collapsed": false,
    "pycharm": {
     "name": "#%%\n"
    }
   }
  },
  {
   "cell_type": "code",
   "execution_count": 106,
   "outputs": [],
   "source": [
    "n1 =((near_term - spot_time).days * 24 *60 + (near_term - spot_time).seconds // 60 )\n",
    "n2 =((next_term - spot_time).days * 24 *60 + (next_term - spot_time).seconds // 60 )\n",
    "n30 = 30 * 24 *60\n",
    "n365 = 365*24*60\n",
    "t1 = ((near_term - spot_time).days * 24 *60 + (near_term - spot_time).seconds // 60 )/ 525600\n",
    "t2 = ((next_term - spot_time).days * 24 *60 + (next_term - spot_time).seconds // 60 ) / 525600"
   ],
   "metadata": {
    "collapsed": false,
    "pycharm": {
     "name": "#%%\n"
    }
   }
  },
  {
   "cell_type": "code",
   "execution_count": 8,
   "outputs": [
    {
     "data": {
      "text/plain": "     px_bid().value Put_Call  Strike   expirey\n402            0.05      Put    1000  11/11/22\n403            0.05      Put    1200  11/11/22\n404            0.05      Put    1400  11/11/22\n405            0.10      Put    1600  11/11/22\n406            0.20      Put    1800  11/11/22\n..              ...      ...     ...       ...\n634            4.00     Call    4300  11/11/22\n635            1.95     Call    4400  11/11/22\n636            0.45     Call    4600  11/11/22\n637            0.15     Call    4800  11/11/22\n638            0.05     Call    5000  11/11/22\n\n[237 rows x 4 columns]",
      "text/html": "<div>\n<style scoped>\n    .dataframe tbody tr th:only-of-type {\n        vertical-align: middle;\n    }\n\n    .dataframe tbody tr th {\n        vertical-align: top;\n    }\n\n    .dataframe thead th {\n        text-align: right;\n    }\n</style>\n<table border=\"1\" class=\"dataframe\">\n  <thead>\n    <tr style=\"text-align: right;\">\n      <th></th>\n      <th>px_bid().value</th>\n      <th>Put_Call</th>\n      <th>Strike</th>\n      <th>expirey</th>\n    </tr>\n  </thead>\n  <tbody>\n    <tr>\n      <th>402</th>\n      <td>0.05</td>\n      <td>Put</td>\n      <td>1000</td>\n      <td>11/11/22</td>\n    </tr>\n    <tr>\n      <th>403</th>\n      <td>0.05</td>\n      <td>Put</td>\n      <td>1200</td>\n      <td>11/11/22</td>\n    </tr>\n    <tr>\n      <th>404</th>\n      <td>0.05</td>\n      <td>Put</td>\n      <td>1400</td>\n      <td>11/11/22</td>\n    </tr>\n    <tr>\n      <th>405</th>\n      <td>0.10</td>\n      <td>Put</td>\n      <td>1600</td>\n      <td>11/11/22</td>\n    </tr>\n    <tr>\n      <th>406</th>\n      <td>0.20</td>\n      <td>Put</td>\n      <td>1800</td>\n      <td>11/11/22</td>\n    </tr>\n    <tr>\n      <th>...</th>\n      <td>...</td>\n      <td>...</td>\n      <td>...</td>\n      <td>...</td>\n    </tr>\n    <tr>\n      <th>634</th>\n      <td>4.00</td>\n      <td>Call</td>\n      <td>4300</td>\n      <td>11/11/22</td>\n    </tr>\n    <tr>\n      <th>635</th>\n      <td>1.95</td>\n      <td>Call</td>\n      <td>4400</td>\n      <td>11/11/22</td>\n    </tr>\n    <tr>\n      <th>636</th>\n      <td>0.45</td>\n      <td>Call</td>\n      <td>4600</td>\n      <td>11/11/22</td>\n    </tr>\n    <tr>\n      <th>637</th>\n      <td>0.15</td>\n      <td>Call</td>\n      <td>4800</td>\n      <td>11/11/22</td>\n    </tr>\n    <tr>\n      <th>638</th>\n      <td>0.05</td>\n      <td>Call</td>\n      <td>5000</td>\n      <td>11/11/22</td>\n    </tr>\n  </tbody>\n</table>\n<p>237 rows × 4 columns</p>\n</div>"
     },
     "execution_count": 8,
     "metadata": {},
     "output_type": "execute_result"
    }
   ],
   "source": [
    "spx_next_data = spx_data[spx_data['expirey']==\"11/11/22\"]\n",
    "spx_next_data"
   ],
   "metadata": {
    "collapsed": false,
    "pycharm": {
     "name": "#%%\n"
    }
   }
  },
  {
   "cell_type": "code",
   "execution_count": 35,
   "outputs": [
    {
     "data": {
      "text/plain": "     px_bid().value Put_Call  Strike   expirey\n0              0.05      Put    1200  11/04/22\n1              0.05      Put    1400  11/04/22\n2              0.05      Put    1600  11/04/22\n3              0.10      Put    1800  11/04/22\n4              0.20      Put    2000  11/04/22\n..              ...      ...     ...       ...\n397            1.00     Call    4400  11/04/22\n398            0.45     Call    4500  11/04/22\n399            0.25     Call    4600  11/04/22\n400            0.05     Call    4800  11/04/22\n401            0.05     Call    5000  11/04/22\n\n[402 rows x 4 columns]",
      "text/html": "<div>\n<style scoped>\n    .dataframe tbody tr th:only-of-type {\n        vertical-align: middle;\n    }\n\n    .dataframe tbody tr th {\n        vertical-align: top;\n    }\n\n    .dataframe thead th {\n        text-align: right;\n    }\n</style>\n<table border=\"1\" class=\"dataframe\">\n  <thead>\n    <tr style=\"text-align: right;\">\n      <th></th>\n      <th>px_bid().value</th>\n      <th>Put_Call</th>\n      <th>Strike</th>\n      <th>expirey</th>\n    </tr>\n  </thead>\n  <tbody>\n    <tr>\n      <th>0</th>\n      <td>0.05</td>\n      <td>Put</td>\n      <td>1200</td>\n      <td>11/04/22</td>\n    </tr>\n    <tr>\n      <th>1</th>\n      <td>0.05</td>\n      <td>Put</td>\n      <td>1400</td>\n      <td>11/04/22</td>\n    </tr>\n    <tr>\n      <th>2</th>\n      <td>0.05</td>\n      <td>Put</td>\n      <td>1600</td>\n      <td>11/04/22</td>\n    </tr>\n    <tr>\n      <th>3</th>\n      <td>0.10</td>\n      <td>Put</td>\n      <td>1800</td>\n      <td>11/04/22</td>\n    </tr>\n    <tr>\n      <th>4</th>\n      <td>0.20</td>\n      <td>Put</td>\n      <td>2000</td>\n      <td>11/04/22</td>\n    </tr>\n    <tr>\n      <th>...</th>\n      <td>...</td>\n      <td>...</td>\n      <td>...</td>\n      <td>...</td>\n    </tr>\n    <tr>\n      <th>397</th>\n      <td>1.00</td>\n      <td>Call</td>\n      <td>4400</td>\n      <td>11/04/22</td>\n    </tr>\n    <tr>\n      <th>398</th>\n      <td>0.45</td>\n      <td>Call</td>\n      <td>4500</td>\n      <td>11/04/22</td>\n    </tr>\n    <tr>\n      <th>399</th>\n      <td>0.25</td>\n      <td>Call</td>\n      <td>4600</td>\n      <td>11/04/22</td>\n    </tr>\n    <tr>\n      <th>400</th>\n      <td>0.05</td>\n      <td>Call</td>\n      <td>4800</td>\n      <td>11/04/22</td>\n    </tr>\n    <tr>\n      <th>401</th>\n      <td>0.05</td>\n      <td>Call</td>\n      <td>5000</td>\n      <td>11/04/22</td>\n    </tr>\n  </tbody>\n</table>\n<p>402 rows × 4 columns</p>\n</div>"
     },
     "execution_count": 35,
     "metadata": {},
     "output_type": "execute_result"
    }
   ],
   "source": [
    "spx_near_data = spx_data[spx_data['expirey']==\"11/04/22\"]\n",
    "spx_near_data"
   ],
   "metadata": {
    "collapsed": false,
    "pycharm": {
     "name": "#%%\n"
    }
   }
  },
  {
   "cell_type": "code",
   "execution_count": 10,
   "outputs": [
    {
     "name": "stderr",
     "output_type": "stream",
     "text": [
      "C:\\Users\\evank\\AppData\\Local\\Temp\\ipykernel_27232\\248535646.py:4: DeprecationWarning: The truth value of an empty array is ambiguous. Returning False, but in future this will result in an error. Use `array.size > 0` to check that an array is not empty.\n",
      "  if m < spx_min:\n",
      "C:\\Users\\evank\\AppData\\Local\\Temp\\ipykernel_27232\\248535646.py:12: DeprecationWarning: The truth value of an empty array is ambiguous. Returning False, but in future this will result in an error. Use `array.size > 0` to check that an array is not empty.\n",
      "  if m < spx_min:\n"
     ]
    }
   ],
   "source": [
    "spx_min = 1000\n",
    "for p in spx_next_data['Strike'].unique():\n",
    "    m = np.abs(spx_next_data[(spx_next_data['Put_Call']=='Call') & (spx_next_data['Strike'] == p)]['px_bid().value'].values - spx_next_data[(spx_next_data['Put_Call']=='Put') & (spx_next_data['Strike'] == p)]['px_bid().value'].values)\n",
    "    if m < spx_min:\n",
    "        spx_min = m\n",
    "        spx_c_p_2 = spx_next_data[(spx_next_data['Put_Call']=='Call') & (spx_next_data['Strike'] == p)]['px_bid().value'].values - spx_next_data[(spx_next_data['Put_Call']=='Put') & (spx_next_data['Strike'] == p)]['px_bid().value'].values\n",
    "        spx_forward_f2 = p\n",
    "\n",
    "spx_min = 1000\n",
    "for p in spx_near_data['Strike'].unique():\n",
    "    m = np.abs(spx_near_data[(spx_near_data['Put_Call']=='Call') & (spx_near_data['Strike'] == p)]['px_bid().value'].values - spx_near_data[(spx_near_data['Put_Call']=='Put') & (spx_near_data['Strike'] == p)]['px_bid().value'].values)\n",
    "    if m < spx_min:\n",
    "        spx_min = m\n",
    "        spx_c_p_1 = spx_near_data[(spx_near_data['Put_Call']=='Call') & (spx_near_data['Strike'] == p)]['px_bid().value'].values - spx_near_data[(spx_near_data['Put_Call']=='Put') & (spx_near_data['Strike'] == p)]['px_bid().value'].values\n",
    "        spx_forward_f1 = p"
   ],
   "metadata": {
    "collapsed": false,
    "pycharm": {
     "name": "#%%\n"
    }
   }
  },
  {
   "cell_type": "code",
   "execution_count": 21,
   "outputs": [
    {
     "name": "stdout",
     "output_type": "stream",
     "text": [
      "3795\n",
      "3800\n",
      "[2.40000153]\n",
      "[-1.59999847]\n"
     ]
    }
   ],
   "source": [
    "print(spx_forward_f1)\n",
    "print(spx_forward_f2)\n",
    "print(spx_c_p_1)\n",
    "print(spx_c_p_2)"
   ],
   "metadata": {
    "collapsed": false,
    "pycharm": {
     "name": "#%%\n"
    }
   }
  },
  {
   "cell_type": "code",
   "execution_count": 19,
   "outputs": [
    {
     "data": {
      "text/plain": "array([-1.59999847])"
     },
     "execution_count": 19,
     "metadata": {},
     "output_type": "execute_result"
    }
   ],
   "source": [],
   "metadata": {
    "collapsed": false,
    "pycharm": {
     "name": "#%%\n"
    }
   }
  },
  {
   "cell_type": "code",
   "execution_count": 11,
   "outputs": [
    {
     "data": {
      "text/plain": "3797.406241051229"
     },
     "execution_count": 11,
     "metadata": {},
     "output_type": "execute_result"
    }
   ],
   "source": [
    "f1 = float(spx_forward_f1 + np.exp(.033 * t1) * spx_c_p_1)\n",
    "f1"
   ],
   "metadata": {
    "collapsed": false,
    "pycharm": {
     "name": "#%%\n"
    }
   }
  },
  {
   "cell_type": "code",
   "execution_count": 12,
   "outputs": [
    {
     "data": {
      "text/plain": "3798.3948262932604"
     },
     "execution_count": 12,
     "metadata": {},
     "output_type": "execute_result"
    }
   ],
   "source": [
    "f2 = float(spx_forward_f2 + np.exp(.033 * t2) * spx_c_p_2)\n",
    "f2"
   ],
   "metadata": {
    "collapsed": false,
    "pycharm": {
     "name": "#%%\n"
    }
   }
  },
  {
   "cell_type": "code",
   "execution_count": 13,
   "outputs": [],
   "source": [
    "k01, k02 = max(spx_near_data[spx_near_data['Strike']<f1]['Strike']) , max(spx_next_data[spx_next_data['Strike']<f2]['Strike'])"
   ],
   "metadata": {
    "collapsed": false,
    "pycharm": {
     "name": "#%%\n"
    }
   }
  },
  {
   "cell_type": "code",
   "execution_count": 33,
   "outputs": [
    {
     "data": {
      "text/plain": "3795"
     },
     "execution_count": 33,
     "metadata": {},
     "output_type": "execute_result"
    }
   ],
   "source": [
    "k01"
   ],
   "metadata": {
    "collapsed": false,
    "pycharm": {
     "name": "#%%\n"
    }
   }
  },
  {
   "cell_type": "code",
   "execution_count": 34,
   "outputs": [
    {
     "data": {
      "text/plain": "3790"
     },
     "execution_count": 34,
     "metadata": {},
     "output_type": "execute_result"
    }
   ],
   "source": [
    "k02"
   ],
   "metadata": {
    "collapsed": false,
    "pycharm": {
     "name": "#%%\n"
    }
   }
  },
  {
   "cell_type": "code",
   "execution_count": 67,
   "outputs": [],
   "source": [
    "near_calls = spx_near_data[(spx_near_data['Put_Call']=='Call') & (spx_near_data['Strike'] >= k01)].sort_values('Strike')\n",
    "near_puts = spx_near_data[(spx_near_data['Put_Call']=='Put') & (spx_near_data['Strike'] <= k01)].sort_values('Strike')\n",
    "next_calls = spx_next_data[(spx_next_data['Put_Call']=='Call') & (spx_next_data['Strike'] >=k01)].sort_values('Strike')\n",
    "next_puts = spx_next_data[(spx_next_data['Put_Call']=='Put') & (spx_next_data['Strike'] <= k01)].sort_values('Strike')\n",
    "k_delta = ((near_calls['Strike'].shift(-1) - near_calls['Strike'].shift()).dropna()/2)\n",
    "sig_squared_1_t_1_calls = sum((k_delta/near_calls.loc[k_delta.index]['Strike']**2)*np.exp(.033*t1)*near_calls.loc[k_delta.index]['px_bid().value'])\n",
    "k_delta = ((near_puts['Strike'].shift(-1) - near_puts['Strike'].shift(1)).dropna()/2)\n",
    "sig_squared_1_t_1_puts = sum((k_delta/near_puts.loc[k_delta.index]['Strike']**2)*np.exp(.033*t1)*near_puts.loc[k_delta.index]['px_bid().value'])\n",
    "sig_squared_1_t_1_atm = ((near_calls['Strike'].iloc[1] -near_puts['Strike'].iloc[-2])/2)/k01**2*np.exp(.033*t1) *(near_calls[near_calls['Strike']==k01]['px_bid().value'].values + near_puts[near_puts['Strike']==k01]['px_bid().value'].values)/2\n",
    "sig_squared_1_t_1 = 2/t1*(sig_squared_1_t_1_puts+sig_squared_1_t_1_calls + sig_squared_1_t_1_atm)"
   ],
   "metadata": {
    "collapsed": false,
    "pycharm": {
     "name": "#%%\n"
    }
   }
  },
  {
   "cell_type": "code",
   "execution_count": 90,
   "outputs": [
    {
     "data": {
      "text/plain": "array([0.08367652])"
     },
     "execution_count": 90,
     "metadata": {},
     "output_type": "execute_result"
    }
   ],
   "source": [
    "sig_squared_1_t_1"
   ],
   "metadata": {
    "collapsed": false,
    "pycharm": {
     "name": "#%%\n"
    }
   }
  },
  {
   "cell_type": "code",
   "execution_count": 93,
   "outputs": [],
   "source": [
    "next_calls = spx_next_data[(spx_next_data['Put_Call']=='Call') & (spx_next_data['Strike'] >= k02)].sort_values('Strike')\n",
    "next_puts = spx_next_data[(spx_next_data['Put_Call']=='Put') & (spx_next_data['Strike'] <= k02)].sort_values('Strike')\n",
    "next_calls = spx_next_data[(spx_next_data['Put_Call']=='Call') & (spx_next_data['Strike'] >=k02)].sort_values('Strike')\n",
    "next_puts = spx_next_data[(spx_next_data['Put_Call']=='Put') & (spx_next_data['Strike'] <= k02)].sort_values('Strike')\n",
    "k_delta = ((next_calls['Strike'].shift(-1) - next_calls['Strike'].shift()).dropna()/2)\n",
    "sig_squared_2_t_1_calls = sum((k_delta/next_calls.loc[k_delta.index]['Strike']**2)*np.exp(.033*t1)*next_calls.loc[k_delta.index]['px_bid().value'])\n",
    "k_delta = ((next_puts['Strike'].shift(-1) - next_puts['Strike'].shift(1)).dropna()/2)\n",
    "sig_squared_2_t_1_puts = sum((k_delta/next_puts.loc[k_delta.index]['Strike']**2)*np.exp(.033*t1)*next_puts.loc[k_delta.index]['px_bid().value'])\n",
    "sig_squared_2_t_1_atm = ((next_calls['Strike'].iloc[1] -next_puts['Strike'].iloc[-2])/2)/k02**2*np.exp(.033*t1) *(next_calls[next_calls['Strike']==k02]['px_bid().value'].values + next_puts[next_puts['Strike']==k02]['px_bid().value'].values)/2\n",
    "sig_squared_2_t_1 = 2/t1*(sig_squared_2_t_1_puts+sig_squared_2_t_1_calls + sig_squared_2_t_1_atm)"
   ],
   "metadata": {
    "collapsed": false,
    "pycharm": {
     "name": "#%%\n"
    }
   }
  },
  {
   "cell_type": "code",
   "execution_count": 94,
   "outputs": [
    {
     "data": {
      "text/plain": "array([0.10689018])"
     },
     "execution_count": 94,
     "metadata": {},
     "output_type": "execute_result"
    }
   ],
   "source": [
    "sig_squared_2_t_1"
   ],
   "metadata": {
    "collapsed": false,
    "pycharm": {
     "name": "#%%\n"
    }
   }
  },
  {
   "cell_type": "code",
   "execution_count": 97,
   "outputs": [
    {
     "data": {
      "text/plain": "3797.406241051229"
     },
     "execution_count": 97,
     "metadata": {},
     "output_type": "execute_result"
    }
   ],
   "source": [
    "f1"
   ],
   "metadata": {
    "collapsed": false,
    "pycharm": {
     "name": "#%%\n"
    }
   }
  },
  {
   "cell_type": "code",
   "execution_count": 98,
   "outputs": [
    {
     "name": "stdout",
     "output_type": "stream",
     "text": [
      "5.109666273913182e-06\n",
      "5.013604416632351e-05\n"
     ]
    }
   ],
   "source": [
    "sig_squared_1_t_2 = 1/t1 * (f1/k01-1)**2\n",
    "sig_squared_2_t_2 = 1/t2 * (f2/k02-1)**2\n",
    "print(sig_squared_1_t_2)\n",
    "print(sig_squared_2_t_2)"
   ],
   "metadata": {
    "collapsed": false,
    "pycharm": {
     "name": "#%%\n"
    }
   }
  },
  {
   "cell_type": "code",
   "execution_count": 100,
   "outputs": [
    {
     "data": {
      "text/plain": "array([0.08367141])"
     },
     "execution_count": 100,
     "metadata": {},
     "output_type": "execute_result"
    }
   ],
   "source": [
    "sig_squared_1 = sig_squared_1_t_1 - sig_squared_1_t_2\n",
    "sig_squared_1"
   ],
   "metadata": {
    "collapsed": false,
    "pycharm": {
     "name": "#%%\n"
    }
   }
  },
  {
   "cell_type": "code",
   "execution_count": 102,
   "outputs": [
    {
     "data": {
      "text/plain": "array([0.10684004])"
     },
     "execution_count": 102,
     "metadata": {},
     "output_type": "execute_result"
    }
   ],
   "source": [
    "sig_squared_2 = sig_squared_2_t_1 - sig_squared_2_t_2\n",
    "sig_squared_2"
   ],
   "metadata": {
    "collapsed": false,
    "pycharm": {
     "name": "#%%\n"
    }
   }
  },
  {
   "cell_type": "code",
   "execution_count": 113,
   "outputs": [],
   "source": [
    "vix = 100 * ((t1*sig_squared_1*((n2 - n30)/(n2-n1)) + t2*sig_squared_2*((n30 - n1)/(n2-n1)))*n365/n30)**(1/2)"
   ],
   "metadata": {
    "collapsed": false,
    "pycharm": {
     "name": "#%%\n"
    }
   }
  },
  {
   "cell_type": "code",
   "execution_count": 117,
   "outputs": [
    {
     "name": "stdout",
     "output_type": "stream",
     "text": [
      "VIX: 29.79\n"
     ]
    }
   ],
   "source": [
    "print(\"VIX: \"+ str(round(vix[0],2)))"
   ],
   "metadata": {
    "collapsed": false,
    "pycharm": {
     "name": "#%%\n"
    }
   }
  },
  {
   "cell_type": "code",
   "execution_count": null,
   "outputs": [],
   "source": [],
   "metadata": {
    "collapsed": false,
    "pycharm": {
     "name": "#%%\n"
    }
   }
  }
 ],
 "metadata": {
  "kernelspec": {
   "display_name": "Python 3",
   "language": "python",
   "name": "python3"
  },
  "language_info": {
   "codemirror_mode": {
    "name": "ipython",
    "version": 2
   },
   "file_extension": ".py",
   "mimetype": "text/x-python",
   "name": "python",
   "nbconvert_exporter": "python",
   "pygments_lexer": "ipython2",
   "version": "2.7.6"
  }
 },
 "nbformat": 4,
 "nbformat_minor": 0
}